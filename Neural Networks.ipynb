{
 "cells": [
  {
   "cell_type": "markdown",
   "metadata": {},
   "source": [
    "Tensorflow (Keras API)"
   ]
  },
  {
   "cell_type": "code",
   "execution_count": 32,
   "metadata": {
    "ExecuteTime": {
     "end_time": "2020-10-21T13:28:48.222025Z",
     "start_time": "2020-10-21T13:28:48.208989Z"
    }
   },
   "outputs": [],
   "source": [
    "from keras import models, optimizers\n",
    "from keras.layers import Dense, Dropout\n",
    "from keras.utils import to_categorical\n",
    "from keras.datasets import mnist\n",
    "from matplotlib import pyplot as plt\n",
    "import time\n",
    "\n",
    "def data_summary(X_train, y_train, X_test, y_test):\n",
    "    print('Train images shape:', X_train.shape)\n",
    "    print('Train labels shape:', y_train.shape)\n",
    "    print('Test images shape:', X_test.shape)\n",
    "    print('Test labels shape:', y_test.shape)\n",
    "    print('Train labels:', y_train)\n",
    "    print('Test labels:', y_test)"
   ]
  },
  {
   "cell_type": "code",
   "execution_count": 24,
   "metadata": {
    "ExecuteTime": {
     "end_time": "2020-10-21T13:22:21.171455Z",
     "start_time": "2020-10-21T13:22:20.815455Z"
    }
   },
   "outputs": [],
   "source": [
    "# Load data\n",
    "(X_train_raw, y_train_raw), (X_test_raw, y_test_raw) = mnist.load_data()"
   ]
  },
  {
   "cell_type": "code",
   "execution_count": 25,
   "metadata": {
    "ExecuteTime": {
     "end_time": "2020-10-21T13:22:21.185461Z",
     "start_time": "2020-10-21T13:22:21.174457Z"
    }
   },
   "outputs": [
    {
     "name": "stdout",
     "output_type": "stream",
     "text": [
      "Train images shape: (60000, 28, 28)\n",
      "Train labels shape: (60000,)\n",
      "Test images shape: (10000, 28, 28)\n",
      "Test labels shape: (10000,)\n",
      "Train labels: [5 0 4 ... 5 6 8]\n",
      "Test labels: [7 2 1 ... 4 5 6]\n"
     ]
    }
   ],
   "source": [
    "# Check state of dataset\n",
    "data_summary(X_train_raw, y_train_raw, X_test_raw, y_test_raw)"
   ]
  },
  {
   "cell_type": "code",
   "execution_count": 26,
   "metadata": {
    "ExecuteTime": {
     "end_time": "2020-10-21T13:22:21.345978Z",
     "start_time": "2020-10-21T13:22:21.188458Z"
    }
   },
   "outputs": [
    {
     "name": "stdout",
     "output_type": "stream",
     "text": [
      "Label 9\n"
     ]
    },
    {
     "data": {
      "image/png": "[encoded data removed]",
      "text/plain": [
       "<Figure size 432x288 with 1 Axes>"
      ]
     },
     "metadata": {
      "needs_background": "light"
     },
     "output_type": "display_data"
    }
   ],
   "source": [
    "i = 45\n",
    "plt.imshow(X_train_raw[i], 'Greys')\n",
    "print ('Label', y_train_raw[i])"
   ]
  },
  {
   "cell_type": "code",
   "execution_count": 58,
   "metadata": {
    "ExecuteTime": {
     "end_time": "2020-10-21T13:54:50.474386Z",
     "start_time": "2020-10-21T13:54:50.017494Z"
    }
   },
   "outputs": [
    {
     "name": "stdout",
     "output_type": "stream",
     "text": [
      "Train images shape: (60000, 784)\n",
      "Train labels shape: (60000, 10)\n",
      "Test images shape: (10000, 784)\n",
      "Test labels shape: (10000, 10)\n",
      "Train labels: [[0. 0. 0. ... 0. 0. 0.]\n",
      " [1. 0. 0. ... 0. 0. 0.]\n",
      " [0. 0. 0. ... 0. 0. 0.]\n",
      " ...\n",
      " [0. 0. 0. ... 0. 0. 0.]\n",
      " [0. 0. 0. ... 0. 0. 0.]\n",
      " [0. 0. 0. ... 0. 1. 0.]]\n",
      "Test labels: [[0. 0. 0. ... 1. 0. 0.]\n",
      " [0. 0. 1. ... 0. 0. 0.]\n",
      " [0. 1. 0. ... 0. 0. 0.]\n",
      " ...\n",
      " [0. 0. 0. ... 0. 0. 0.]\n",
      " [0. 0. 0. ... 0. 0. 0.]\n",
      " [0. 0. 0. ... 0. 0. 0.]]\n"
     ]
    }
   ],
   "source": [
    "# Reshape data\n",
    "X_train = X_train_raw.reshape((X_train_raw.shape[0], 28 * 28))\n",
    "X_train = X_train.astype('float32') / 255\n",
    "X_test = X_test_raw.reshape((X_test_raw.shape[0], 28 * 28))\n",
    "X_test = X_test.astype('float32') / 255\n",
    "\n",
    "# Categorically encode labels\n",
    "y_train = to_categorical(y_train_raw, 10)\n",
    "y_test = to_categorical(y_test_raw, 10)\n",
    "\n",
    "# Check state of dataset\n",
    "data_summary(X_train, y_train, X_test, y_test)"
   ]
  },
  {
   "cell_type": "code",
   "execution_count": 63,
   "metadata": {
    "ExecuteTime": {
     "end_time": "2020-10-21T14:16:32.161594Z",
     "start_time": "2020-10-21T14:12:10.777750Z"
    }
   },
   "outputs": [
    {
     "name": "stdout",
     "output_type": "stream",
     "text": [
      "Train on 60000 samples, validate on 10000 samples\n",
      "Epoch 1/10\n",
      "60000/60000 [==============================] - 28s 471us/step - loss: 0.2956 - accuracy: 0.9167 - val_loss: 0.1278 - val_accuracy: 0.9605\n",
      "Epoch 2/10\n",
      "60000/60000 [==============================] - 26s 436us/step - loss: 0.1477 - accuracy: 0.9566 - val_loss: 0.1440 - val_accuracy: 0.9593\n",
      "Epoch 3/10\n",
      "60000/60000 [==============================] - 25s 421us/step - loss: 0.1324 - accuracy: 0.9615 - val_loss: 0.1250 - val_accuracy: 0.9631\n",
      "Epoch 4/10\n",
      "60000/60000 [==============================] - 25s 415us/step - loss: 0.1271 - accuracy: 0.9638 - val_loss: 0.1268 - val_accuracy: 0.9632\n",
      "Epoch 5/10\n",
      "60000/60000 [==============================] - 25s 412us/step - loss: 0.1154 - accuracy: 0.9673 - val_loss: 0.1083 - val_accuracy: 0.9682\n",
      "Epoch 6/10\n",
      "60000/60000 [==============================] - 26s 432us/step - loss: 0.1032 - accuracy: 0.9711 - val_loss: 0.1238 - val_accuracy: 0.9668\n",
      "Epoch 7/10\n",
      "60000/60000 [==============================] - 25s 414us/step - loss: 0.1009 - accuracy: 0.9723 - val_loss: 0.1457 - val_accuracy: 0.9662\n",
      "Epoch 8/10\n",
      "60000/60000 [==============================] - 25s 415us/step - loss: 0.1043 - accuracy: 0.9723 - val_loss: 0.1323 - val_accuracy: 0.9702\n",
      "Epoch 9/10\n",
      "60000/60000 [==============================] - 25s 425us/step - loss: 0.0908 - accuracy: 0.9755 - val_loss: 0.1185 - val_accuracy: 0.9739\n",
      "Epoch 10/10\n",
      "60000/60000 [==============================] - 26s 427us/step - loss: 0.0795 - accuracy: 0.9786 - val_loss: 0.1333 - val_accuracy: 0.9699\n",
      "Test loss: 0.13327429891365392\n",
      "Test accuracy: 0.9699000120162964\n"
     ]
    }
   ],
   "source": [
    "# Build neural network\n",
    "model = models.Sequential()\n",
    "model.add(Dense(784, activation='relu', input_shape=(28 * 28,))) #activation functions: \n",
    "model.add(Dropout(.1))\n",
    "model.add(Dense(256, activation='relu'))\n",
    "model.add(Dense(10, activation='softmax'))\n",
    "\n",
    "#############################\n",
    "optimizer = optimizers.Adam(lr=0.01)\n",
    "\n",
    "# Compile model\n",
    "model.compile(optimizer=optimizer,\n",
    "              loss='categorical_crossentropy',\n",
    "              metrics=['accuracy'])\n",
    "\n",
    "#t1 = time.time()\n",
    "# Train model\n",
    "history = model.fit(X_train, y_train,\n",
    "          batch_size=128,\n",
    "          epochs=10,\n",
    "          verbose=1,\n",
    "          validation_data=(X_test, y_test))\n",
    "#t2 = time.time()\n",
    "\n",
    "#print (t2-t1)\n",
    "score = model.evaluate(X_test, y_test, verbose=0)\n",
    "print('Test loss:', score[0])\n",
    "print('Test accuracy:', score[1])"
   ]
  },
  {
   "cell_type": "code",
   "execution_count": 15,
   "metadata": {
    "ExecuteTime": {
     "end_time": "2020-10-21T13:06:07.744239Z",
     "start_time": "2020-10-21T13:06:07.553708Z"
    }
   },
   "outputs": [
    {
     "data": {
      "image/png": "[encoded data removed]",
      "text/plain": [
       "<Figure size 432x288 with 1 Axes>"
      ]
     },
     "metadata": {
      "needs_background": "light"
     },
     "output_type": "display_data"
    }
   ],
   "source": [
    "plt.plot(history.history['accuracy'])\n",
    "plt.plot(history.history['val_accuracy'])\n",
    "plt.title('model accuracy')\n",
    "plt.ylabel('accuracy')\n",
    "plt.xlabel('epoch')\n",
    "plt.legend(['train', 'val'], loc='upper left')\n",
    "plt.show()"
   ]
  },
  {
   "cell_type": "code",
   "execution_count": 16,
   "metadata": {
    "ExecuteTime": {
     "end_time": "2020-10-21T13:06:07.924438Z",
     "start_time": "2020-10-21T13:06:07.746242Z"
    }
   },
   "outputs": [
    {
     "data": {
      "image/png": "[encoded data removed]",
      "text/plain": [
       "<Figure size 432x288 with 1 Axes>"
      ]
     },
     "metadata": {
      "needs_background": "light"
     },
     "output_type": "display_data"
    }
   ],
   "source": [
    "plt.plot(history.history['loss'])\n",
    "plt.plot(history.history['val_loss'])\n",
    "plt.title('model loss')\n",
    "plt.ylabel('loss')\n",
    "plt.xlabel('epoch')\n",
    "plt.legend(['train', 'val'], loc='upper left')\n",
    "plt.show()"
   ]
  },
  {
   "cell_type": "code",
   "execution_count": 17,
   "metadata": {
    "ExecuteTime": {
     "end_time": "2020-10-21T13:06:07.938423Z",
     "start_time": "2020-10-21T13:06:07.928424Z"
    }
   },
   "outputs": [
    {
     "name": "stdout",
     "output_type": "stream",
     "text": [
      "Model: \"sequential_2\"\n",
      "_________________________________________________________________\n",
      "Layer (type)                 Output Shape              Param #   \n",
      "=================================================================\n",
      "dense_4 (Dense)              (None, 784)               615440    \n",
      "_________________________________________________________________\n",
      "dense_5 (Dense)              (None, 256)               200960    \n",
      "_________________________________________________________________\n",
      "dense_6 (Dense)              (None, 10)                2570      \n",
      "=================================================================\n",
      "Total params: 818,970\n",
      "Trainable params: 818,970\n",
      "Non-trainable params: 0\n",
      "_________________________________________________________________\n"
     ]
    }
   ],
   "source": [
    "# Summary of neural network\n",
    "model.summary()"
   ]
  },
  {
   "cell_type": "code",
   "execution_count": 18,
   "metadata": {
    "ExecuteTime": {
     "end_time": "2020-10-21T13:06:08.087979Z",
     "start_time": "2020-10-21T13:06:07.941424Z"
    }
   },
   "outputs": [
    {
     "name": "stdout",
     "output_type": "stream",
     "text": [
      "Label 9\n"
     ]
    },
    {
     "data": {
      "image/png": "[encoded data removed]",
      "text/plain": [
       "<Figure size 432x288 with 1 Axes>"
      ]
     },
     "metadata": {
      "needs_background": "light"
     },
     "output_type": "display_data"
    }
   ],
   "source": [
    "i = 45\n",
    "plt.imshow(X_train_raw[i], 'Greys')\n",
    "print ('Label', y_train_raw[i])\n",
    "\n",
    "image = X_train_raw[i].reshape(1, 784)"
   ]
  },
  {
   "cell_type": "code",
   "execution_count": 19,
   "metadata": {
    "ExecuteTime": {
     "end_time": "2020-10-21T13:06:08.096947Z",
     "start_time": "2020-10-21T13:06:08.089950Z"
    }
   },
   "outputs": [],
   "source": [
    "layer_outputs = [layer.output for layer in model.layers[0:3]]\n",
    "activation_model = models.Model(inputs=model.input,outputs=layer_outputs)"
   ]
  },
  {
   "cell_type": "code",
   "execution_count": 20,
   "metadata": {
    "ExecuteTime": {
     "end_time": "2020-10-21T13:06:08.151347Z",
     "start_time": "2020-10-21T13:06:08.099949Z"
    }
   },
   "outputs": [],
   "source": [
    "activations = activation_model.predict(image)"
   ]
  },
  {
   "cell_type": "code",
   "execution_count": 35,
   "metadata": {
    "ExecuteTime": {
     "end_time": "2020-10-21T13:31:16.600105Z",
     "start_time": "2020-10-21T13:31:16.224716Z"
    }
   },
   "outputs": [
    {
     "data": {
      "text/plain": [
       "<matplotlib.image.AxesImage at 0x131ab64b608>"
      ]
     },
     "execution_count": 35,
     "metadata": {},
     "output_type": "execute_result"
    },
    {
     "data": {
      "image/png": "[encoded data removed]",
      "text/plain": [
       "<Figure size 432x288 with 1 Axes>"
      ]
     },
     "metadata": {
      "needs_background": "light"
     },
     "output_type": "display_data"
    }
   ],
   "source": [
    "plt.imshow(activations[0].reshape(28,28))"
   ]
  },
  {
   "cell_type": "code",
   "execution_count": 36,
   "metadata": {
    "ExecuteTime": {
     "end_time": "2020-10-21T13:31:16.792624Z",
     "start_time": "2020-10-21T13:31:16.605116Z"
    }
   },
   "outputs": [
    {
     "data": {
      "text/plain": [
       "<matplotlib.image.AxesImage at 0x131a39589c8>"
      ]
     },
     "execution_count": 36,
     "metadata": {},
     "output_type": "execute_result"
    },
    {
     "data": {
      "image/png": "[encoded data removed]",
      "text/plain": [
       "<Figure size 432x288 with 1 Axes>"
      ]
     },
     "metadata": {
      "needs_background": "light"
     },
     "output_type": "display_data"
    }
   ],
   "source": [
    "plt.imshow(activations[1].reshape(16,16))"
   ]
  },
  {
   "cell_type": "code",
   "execution_count": 37,
   "metadata": {
    "ExecuteTime": {
     "end_time": "2020-10-21T13:31:16.954620Z",
     "start_time": "2020-10-21T13:31:16.795623Z"
    }
   },
   "outputs": [
    {
     "data": {
      "text/plain": [
       "<BarContainer object of 10 artists>"
      ]
     },
     "execution_count": 37,
     "metadata": {},
     "output_type": "execute_result"
    },
    {
     "data": {
      "image/png": "[encoded data removed]",
      "text/plain": [
       "<Figure size 432x288 with 1 Axes>"
      ]
     },
     "metadata": {
      "needs_background": "light"
     },
     "output_type": "display_data"
    }
   ],
   "source": [
    "plt.bar(range(10),activations[2][0])"
   ]
  },
  {
   "cell_type": "code",
   "execution_count": 64,
   "metadata": {
    "ExecuteTime": {
     "end_time": "2020-10-21T14:17:06.040728Z",
     "start_time": "2020-10-21T14:17:06.028578Z"
    }
   },
   "outputs": [
    {
     "data": {
      "text/plain": [
       "array([0., 0., 0., 0., 0., 0., 0., 0., 0., 1.], dtype=float32)"
      ]
     },
     "execution_count": 64,
     "metadata": {},
     "output_type": "execute_result"
    }
   ],
   "source": [
    "activations[2][0]"
   ]
  },
  {
   "cell_type": "markdown",
   "metadata": {},
   "source": [
    "PyTorch"
   ]
  },
  {
   "cell_type": "code",
   "execution_count": 43,
   "metadata": {
    "ExecuteTime": {
     "end_time": "2020-10-21T13:33:56.790233Z",
     "start_time": "2020-10-21T13:33:56.193236Z"
    },
    "scrolled": true
   },
   "outputs": [],
   "source": [
    "import numpy as np\n",
    "import torch\n",
    "import matplotlib.pyplot as plt\n",
    "from time import time\n",
    "from torch import nn, optim\n",
    "from torch.utils.data import Dataset, DataLoader"
   ]
  },
  {
   "cell_type": "code",
   "execution_count": 44,
   "metadata": {
    "ExecuteTime": {
     "end_time": "2020-10-21T13:33:57.214746Z",
     "start_time": "2020-10-21T13:33:57.205743Z"
    }
   },
   "outputs": [],
   "source": [
    "y_test = y_test_raw.astype(np.int64)\n",
    "y_train = y_train_raw.astype(np.int64)"
   ]
  },
  {
   "cell_type": "code",
   "execution_count": 46,
   "metadata": {
    "ExecuteTime": {
     "end_time": "2020-10-21T13:34:01.048362Z",
     "start_time": "2020-10-21T13:34:01.038795Z"
    },
    "code_folding": []
   },
   "outputs": [],
   "source": [
    "class DataFormat(Dataset):\n",
    "    def __init__(self, a, b):\n",
    "        self.x = a\n",
    "        self.y = b\n",
    "\n",
    "    def __getitem__(self, item): #indexing\n",
    "        return self.x[item], self.y[item]\n",
    "\n",
    "    def __len__(self): #length\n",
    "        return len(self.y)"
   ]
  },
  {
   "cell_type": "code",
   "execution_count": 47,
   "metadata": {
    "ExecuteTime": {
     "end_time": "2020-10-21T13:34:01.392244Z",
     "start_time": "2020-10-21T13:34:01.387239Z"
    }
   },
   "outputs": [],
   "source": [
    "testloader = DataLoader(DataFormat(X_test, y_test), shuffle=True, batch_size=64)\n",
    "trainloader = DataLoader(DataFormat(X_train, y_train), shuffle=True, batch_size=64)"
   ]
  },
  {
   "cell_type": "code",
   "execution_count": 48,
   "metadata": {
    "ExecuteTime": {
     "end_time": "2020-10-21T13:34:02.002653Z",
     "start_time": "2020-10-21T13:34:01.984716Z"
    }
   },
   "outputs": [
    {
     "name": "stdout",
     "output_type": "stream",
     "text": [
      "torch.Size([64, 784])\n",
      "torch.Size([64])\n"
     ]
    }
   ],
   "source": [
    "dataiter = iter(trainloader)\n",
    "images, labels = dataiter.next()\n",
    "\n",
    "print(images.shape)\n",
    "print(labels.shape)"
   ]
  },
  {
   "cell_type": "code",
   "execution_count": 49,
   "metadata": {
    "ExecuteTime": {
     "end_time": "2020-10-21T13:34:02.193652Z",
     "start_time": "2020-10-21T13:34:02.182655Z"
    }
   },
   "outputs": [
    {
     "name": "stdout",
     "output_type": "stream",
     "text": [
      "Sequential(\n",
      "  (0): Linear(in_features=784, out_features=128, bias=True)\n",
      "  (1): ReLU()\n",
      "  (2): Linear(in_features=128, out_features=64, bias=True)\n",
      "  (3): ReLU()\n",
      "  (4): Linear(in_features=64, out_features=10, bias=True)\n",
      "  (5): LogSoftmax(dim=1)\n",
      ")\n"
     ]
    }
   ],
   "source": [
    "input_size = 784\n",
    "hidden_sizes = [128, 64]\n",
    "output_size = 10\n",
    "\n",
    "model = nn.Sequential(nn.Linear(input_size, hidden_sizes[0]),\n",
    "                      nn.ReLU(),\n",
    "                      nn.Linear(hidden_sizes[0], hidden_sizes[1]),\n",
    "                      nn.ReLU(),\n",
    "                      nn.Linear(hidden_sizes[1], output_size),\n",
    "                      nn.LogSoftmax(dim=1))\n",
    "print(model)"
   ]
  },
  {
   "cell_type": "code",
   "execution_count": 53,
   "metadata": {
    "ExecuteTime": {
     "end_time": "2020-10-21T13:34:53.156357Z",
     "start_time": "2020-10-21T13:34:03.293740Z"
    }
   },
   "outputs": [
    {
     "name": "stdout",
     "output_type": "stream",
     "text": [
      "Epoch 0 - Training loss: 0.9495138079086854\n",
      "Epoch 1 - Training loss: 0.3250232120392038\n",
      "Epoch 2 - Training loss: 0.26683783761537405\n",
      "Epoch 3 - Training loss: 0.2257434664917653\n",
      "Epoch 4 - Training loss: 0.19285185486554846\n",
      "Epoch 5 - Training loss: 0.16735181420533132\n",
      "Epoch 6 - Training loss: 0.14821327002302034\n",
      "Epoch 7 - Training loss: 0.13162801666324264\n",
      "Epoch 8 - Training loss: 0.11863097787669885\n",
      "Epoch 9 - Training loss: 0.10762605213943416\n",
      "Epoch 10 - Training loss: 0.09791195442997364\n",
      "Epoch 11 - Training loss: 0.08965279742666303\n",
      "Epoch 12 - Training loss: 0.08255843467998511\n",
      "Epoch 13 - Training loss: 0.07653367332915571\n",
      "Epoch 14 - Training loss: 0.07077129938746932\n",
      "\n",
      "Training Time (in minutes) = 0.8308435837427776\n"
     ]
    }
   ],
   "source": [
    "optimizer = optim.SGD(model.parameters(), lr=0.003, momentum=0.9)\n",
    "time0 = time()\n",
    "epochs = 15\n",
    "for e in range(epochs):\n",
    "    running_loss = 0\n",
    "    for images, labels in trainloader:\n",
    "        # Flatten MNIST images into a 784 long vector\n",
    "        images = images.view(images.shape[0], -1)\n",
    "    \n",
    "        # Training pass\n",
    "        optimizer.zero_grad()\n",
    "        \n",
    "        output = model(images)\n",
    "        loss = criterion(output, labels)\n",
    "        \n",
    "        #This is where the model learns by backpropagating\n",
    "        loss.backward()\n",
    "        \n",
    "        #And optimizes its weights here\n",
    "        optimizer.step()\n",
    "        \n",
    "        running_loss += loss.item()\n",
    "    else:\n",
    "        print(\"Epoch {} - Training loss: {}\".format(e, running_loss/len(trainloader)))\n",
    "print(\"\\nTraining Time (in minutes) =\",(time()-time0)/60)"
   ]
  },
  {
   "cell_type": "code",
   "execution_count": 54,
   "metadata": {
    "ExecuteTime": {
     "end_time": "2020-10-21T13:34:53.492909Z",
     "start_time": "2020-10-21T13:34:53.160357Z"
    }
   },
   "outputs": [
    {
     "name": "stdout",
     "output_type": "stream",
     "text": [
      "Predicted Digit = 8\n"
     ]
    },
    {
     "data": {
      "image/png": "[encoded data removed]",
      "text/plain": [
       "<Figure size 432x648 with 2 Axes>"
      ]
     },
     "metadata": {
      "needs_background": "light"
     },
     "output_type": "display_data"
    }
   ],
   "source": [
    "def view_classify(img, ps):\n",
    "\n",
    "    ps = ps.data.numpy().squeeze()\n",
    "\n",
    "    fig, (ax1, ax2) = plt.subplots(figsize=(6,9), ncols=2)\n",
    "    ax1.imshow(img.resize_(1, 28, 28).numpy().squeeze(), 'Greys')\n",
    "    ax1.axis('off')\n",
    "    ax2.barh(np.arange(10), ps)\n",
    "    ax2.set_aspect(0.1)\n",
    "    ax2.set_yticks(np.arange(10))\n",
    "    ax2.set_yticklabels(np.arange(10))\n",
    "    ax2.set_title('Class Probability')\n",
    "    ax2.set_xlim(0, 1.1)\n",
    "    plt.tight_layout()\n",
    "\n",
    "images, labels = next(iter(testloader))\n",
    "\n",
    "img = images[0].view(1, 784)\n",
    "with torch.no_grad():\n",
    "    logps = model(img)\n",
    "\n",
    "ps = torch.exp(logps)\n",
    "probab = list(ps.numpy()[0])\n",
    "print(\"Predicted Digit =\", probab.index(max(probab)))\n",
    "view_classify(img.view(1, 28, 28), ps)"
   ]
  },
  {
   "cell_type": "code",
   "execution_count": 55,
   "metadata": {
    "ExecuteTime": {
     "end_time": "2020-10-21T13:34:56.473465Z",
     "start_time": "2020-10-21T13:34:53.495873Z"
    }
   },
   "outputs": [
    {
     "name": "stdout",
     "output_type": "stream",
     "text": [
      "Number Of Images Tested = 10000\n",
      "\n",
      "Model Accuracy = 0.9734\n"
     ]
    }
   ],
   "source": [
    "correct_count, all_count = 0, 0\n",
    "for images,labels in testloader:\n",
    "    for i in range(len(labels)):\n",
    "        img = images[i].view(1, 784)\n",
    "        with torch.no_grad():\n",
    "            logps = model(img)\n",
    "\n",
    "    \n",
    "        ps = torch.exp(logps)\n",
    "        probab = list(ps.numpy()[0])\n",
    "        pred_label = probab.index(max(probab))\n",
    "        true_label = labels.numpy()[i]\n",
    "        if(true_label == pred_label):\n",
    "          correct_count += 1\n",
    "        all_count += 1\n",
    "\n",
    "print(\"Number Of Images Tested =\", all_count)\n",
    "print(\"\\nModel Accuracy =\", (correct_count/all_count))"
   ]
  }
 ],
 "metadata": {
  "kernelspec": {
   "display_name": "Python 3",
   "language": "python",
   "name": "python3"
  },
  "language_info": {
   "codemirror_mode": {
    "name": "ipython",
    "version": 3
   },
   "file_extension": ".py",
   "mimetype": "text/x-python",
   "name": "python",
   "nbconvert_exporter": "python",
   "pygments_lexer": "ipython3",
   "version": "3.7.7"
  }
 },
 "nbformat": 4,
 "nbformat_minor": 4
}
